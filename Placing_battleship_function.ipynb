{
 "cells": [
  {
   "cell_type": "code",
   "execution_count": 27,
   "metadata": {},
   "outputs": [],
   "source": [
    "class Point:\n",
    "    def __init__(self, initX, initY):\n",
    "        self.x = initX\n",
    "        self.y = initY\n"
   ]
  },
  {
   "cell_type": "code",
   "execution_count": 33,
   "metadata": {},
   "outputs": [],
   "source": [
    "def check_valid_point(point_str, thing):\n",
    "    #returns False if string is in invalid format, True if valid.\n",
    "    if (len(point_str) != 2) or (point_str[0].upper() not in \"ABCDEFGHJK\") or (point_str[1] not in \"0123456789\"):\n",
    "        print(\"Please enter valid coordinates! e.g. B1\")\n",
    "        return False\n",
    "        #Check if thing is within the board using ASCII index\n",
    "        if (ord(point_str[0]) > 75 or ord(point_str[0]) < 65 or ord(point_str[1]) > 57 or ord(point_[1]) < 48): \n",
    "            print(thing, \" is out of board!\")\n",
    "            return False\n",
    "    else:\n",
    "        return True"
   ]
  },
  {
   "cell_type": "code",
   "execution_count": 38,
   "metadata": {},
   "outputs": [],
   "source": [
    "class Point:\n",
    "    def __init__(self, initX, initY):\n",
    "        self.x = initX\n",
    "        self.y = initY\n",
    "\n",
    "def place_stern(ship_name):\n",
    "    stern_bool = False\n",
    "    \n",
    "    while stern_bool == False :\n",
    "        stern_str = input(\"Where would you like the stern of your {} to be? e.g. A0. 'I' is not valid.\".format(ship_name))#A0\n",
    "        stern_bool = check_valid_point(stern_str, \"Stern\") #check if string is garbage\n",
    "        if stern_bool == True:\n",
    "            return Point( stern_str[0].upper() , stern_str[1] )\n",
    "            #returns stern coordinates as a Point object\n",
    "\n",
    "def generate_ship_sections(stern, ship_name, size ):\n",
    "    direction_bool = False\n",
    "    ls_points = [stern]\n",
    "    \n",
    "    while direction_bool == False:\n",
    "        #Generating ships points based on direction\n",
    "        direction = input(\"Which direction would you like your {} to face? [N/S/E/W] \".format(ship_name))\n",
    "        direction = direction.upper()\n",
    "        if direction in \"NSEW\":\n",
    "            for i in range(1, size):\n",
    "                if direction == \"N\":\n",
    "                    ls_points.append(Point(stern.x, chr(ord(stern.y) - i)))\n",
    "                elif direction == \"W\":\n",
    "                    ls_points.append(Point(chr(ord(stern.x) + i) , stern.y))\n",
    "                elif direction == \"S\":\n",
    "                    ls_points.append(Point(stern.x, chr(ord(stern.y) + i)))\n",
    "                elif direction == \"E\":\n",
    "                    ls_points.append(Point(chr(ord(stern.x) - i) , stern.y))\n",
    "            direction_bool = True\n",
    "        else:\n",
    "            print(\"Please type [N/S/E/W]!\")\n",
    "            direction_bool = False\n",
    "            \n",
    "    return ls_points\n",
    "\n",
    "def check_ship_sections(ship_name, ls_points):\n",
    "    points_valid = True\n",
    "    #use ASCII numbering to check\n",
    "    for point in ls_points:\n",
    "        #if point is out of board, break for loop\n",
    "        point_str = point.x + point.y\n",
    "        if not check_valid_point(point_str, ship_name):\n",
    "            points_valid = False\n",
    "            break\n",
    "        #check if point conflicts with another ship's points\n",
    "        elif point in ls_all_ships_points:\n",
    "            print(ship_name, \" overlaps an existing ship!\")\n",
    "            points_valid = False\n",
    "            break\n",
    "        else:\n",
    "            continue\n",
    "    return points_valid\n",
    "\n",
    "\n",
    "def place_ship(ship_name, ls_all_ships_points):\n",
    "    size = all_ships_dict.get(ship_name) #get ship's size from dictionary\n",
    "    stern = place_stern(ship_name) #ask player for stern position\n",
    "    \n",
    "    ship_placed = False      \n",
    "    while ship_placed == False:\n",
    "        #generate list of ship points based on known stern and requested direction\n",
    "        ls_points = generate_ship_sections(stern, ship_name, size)\n",
    "        \n",
    "        #check if the ships points are valid based on the known board and known ships\n",
    "        points_valid = check_ship_sections(ship_name, ls_points)\n",
    "        #if any of the ship's points are invalid, points_valid = False and the for loop breaks, restarting the while loop\n",
    "        #If the for loop doesn't break, all ship points are valid and we set direction_bool to True to break the while loop\n",
    "        if points_valid:\n",
    "            ship_placed = True\n",
    "\n",
    "    print(\"Ship placed!\") #tell the player the ship is placed\n",
    "    \"\"\"\n",
    "    for i in ls_points:\n",
    "        print(i.x,i.y)\n",
    "    \"\"\"\n",
    "    #save key: value:ls_points to database \n",
    "    \n",
    "    for i in ls_points: #add the ship's points to list of known ships points\n",
    "        ls_all_ships_points.append(i)\n",
    "    \"\"\"    \n",
    "    for i in ls_all_ships_points:\n",
    "        print(i.x,i.y)    \n",
    "    \"\"\"\n",
    "    #maybe I dont need to return anything cos i just write it to database\n",
    "    return [[ship_name, ls_points], ls_all_ships_points]"
   ]
  },
  {
   "cell_type": "code",
   "execution_count": 39,
   "metadata": {},
   "outputs": [
    {
     "name": "stdout",
     "output_type": "stream",
     "text": [
      "Where would you like the stern of your Carrier to be? e.g. A0. 'I' is not valid.b9\n",
      "Which direction would you like your Carrier to face? [N/S/E/W] w\n",
      "Ship placed!\n",
      "B 9\n",
      "C 9\n",
      "D 9\n",
      "E 9\n",
      "F 9\n",
      "B 9\n",
      "C 9\n",
      "D 9\n",
      "E 9\n",
      "F 9\n"
     ]
    }
   ],
   "source": [
    "ls_all_ships_points = []\n",
    "all_ships_dict = {\"Carrier\": 5 , \"Battleship\" : 4 , \"Cruiser\" : 3, \"Submarine\" : 3 , \"Destroyer\" : 2}\n",
    "Carrieruwu = place_ship(\"Carrier\", ls_all_ships_points)"
   ]
  },
  {
   "cell_type": "code",
   "execution_count": 17,
   "metadata": {},
   "outputs": [
    {
     "name": "stdout",
     "output_type": "stream",
     "text": [
      "Where would you like the stern of your Carrier to be? e.g. A0. 'I' is not valid.f2\n",
      "F 2\n"
     ]
    }
   ],
   "source": [
    "# test\n",
    "def place_stern(ship_name):\n",
    "    stern_bool = False\n",
    "    \n",
    "    while stern_bool == False :\n",
    "        stern_str = input(\"Where would you like the stern of your {} to be? e.g. A0. 'I' is not valid.\".format(ship_name))#A0\n",
    "        if (len(stern_str) != 2) or (stern_str[0].upper() not in \"ABCDEFGHJK\") or (stern_str[1] not in \"0123456789\"):\n",
    "            print(\"Please enter valid coordinates! e.g. B1\")\n",
    "            stern_bool = False\n",
    "        else:\n",
    "            stern = Point( stern_str[0].upper() , int(stern_str[1]) )\n",
    "            #Check if stern of ship is within the board\n",
    "            if (stern.x <= \"K\" and stern.x >= \"A\" and stern.y <= 9 and stern.y >= 0):\n",
    "                stern_bool = True\n",
    "            else:\n",
    "                print(\"Please place the stern on the board!\")\n",
    "                stern_bool = False\n",
    "    return stern\n",
    "     \n",
    "dog = place_stern(\"Carrier\")\n",
    "print(dog.x,dog.y)"
   ]
  },
  {
   "cell_type": "code",
   "execution_count": 21,
   "metadata": {},
   "outputs": [
    {
     "name": "stdout",
     "output_type": "stream",
     "text": [
      "Which direction would you like your Carrier to face? [N/S/E/W] n\n",
      "F <class 'str'>\n",
      "F <class 'str'>\n",
      "F <class 'str'>\n",
      "F <class 'str'>\n",
      "F <class 'str'>\n"
     ]
    }
   ],
   "source": [
    "# test \n",
    "def generate_ship_sections(stern, ship_name, size ):\n",
    "    direction_bool = False\n",
    "    ls_points = [stern]\n",
    "    \n",
    "    while direction_bool == False:\n",
    "        #Generating ships points based on direction\n",
    "        direction = input(\"Which direction would you like your {} to face? [N/S/E/W] \".format(ship_name))\n",
    "        direction = direction.upper()\n",
    "        if direction in \"NSEW\":\n",
    "            for i in range(1, size):\n",
    "                if direction == \"N\":\n",
    "                    ls_points.append(Point(stern.x, chr(ord(stern.y) - i)))\n",
    "                elif direction == \"W\":\n",
    "                    ls_points.append(Point(chr(ord(stern.x) - i) , stern.y))\n",
    "                elif direction == \"S\":\n",
    "                    ls_points.append(Point(stern.x, chr(ord(stern.y) + i)))\n",
    "                elif direction == \"E\":\n",
    "                    ls_points.append(Point(chr(ord(stern.x) + i) , stern.y))\n",
    "            direction_bool = True\n",
    "        else:\n",
    "            print(\"Please type [N/S/E/W]!\")\n",
    "            direction_bool = False\n",
    "            \n",
    "    return ls_points\n",
    "stern = Point(\"F\", \"2\")\n",
    "ship_name = \"Carrier\"\n",
    "size = 5\n",
    "ls = generate_ship_sections(stern, ship_name, size )\n",
    "for i in ls:\n",
    "    print(i.x,type(i.y))"
   ]
  },
  {
   "cell_type": "code",
   "execution_count": 67,
   "metadata": {},
   "outputs": [
    {
     "name": "stdout",
     "output_type": "stream",
     "text": [
      "Carrier  is out of board!\n",
      "Carrier  is out of board!\n",
      "Carrier  is out of board!\n",
      "Carrier  is out of board!\n"
     ]
    }
   ],
   "source": [
    "# test\n",
    "def check_ship_sections(ls_points):\n",
    "    #use ASCII numbering to check\n",
    "    for point in ls_points:\n",
    "        #if point is out of board, break for loop\n",
    "        if (ord(point.x) > 75 or ord(point.x) < 65 or ord(point.y) > 57 or ord(point.y) < 48): \n",
    "            print(ship_name, \" is out of board!\")\n",
    "            \n",
    "        #check if point conflicts with another ship's points\n",
    "        elif point in ls_all_ships_points:\n",
    "            print(ship_name, \" overlaps an existing ship!\")\n",
    "            \n",
    "        else:\n",
    "            continue\n",
    "check_ship_sections(ls)"
   ]
  },
  {
   "cell_type": "code",
   "execution_count": 68,
   "metadata": {},
   "outputs": [
    {
     "name": "stdout",
     "output_type": "stream",
     "text": [
      "Carrier  is out of board!\n",
      "False\n"
     ]
    }
   ],
   "source": [
    "# test\n",
    "def check_ship_sections(ls_points):\n",
    "    points_valid = True\n",
    "    #use ASCII numbering to check\n",
    "    for point in ls_points:\n",
    "        #if point is out of board, break for loop\n",
    "        if (ord(point.x) > 75 or ord(point.x) < 65 or ord(point.y) > 57 or ord(point.y) < 48): \n",
    "            print(ship_name, \" is out of board!\")\n",
    "            points_valid = False\n",
    "            break\n",
    "        #check if point conflicts with another ship's points\n",
    "        elif point in ls_all_ships_points:\n",
    "            print(ship_name, \" overlaps an existing ship!\")\n",
    "            points_valid = False\n",
    "            break\n",
    "        else:\n",
    "            continue\n",
    "    return points_valid\n",
    "print(check_ship_sections(ls))"
   ]
  },
  {
   "cell_type": "code",
   "execution_count": null,
   "metadata": {},
   "outputs": [],
   "source": []
  }
 ],
 "metadata": {
  "kernelspec": {
   "display_name": "Python 3",
   "language": "python",
   "name": "python3"
  },
  "language_info": {
   "codemirror_mode": {
    "name": "ipython",
    "version": 3
   },
   "file_extension": ".py",
   "mimetype": "text/x-python",
   "name": "python",
   "nbconvert_exporter": "python",
   "pygments_lexer": "ipython3",
   "version": "3.8.5"
  }
 },
 "nbformat": 4,
 "nbformat_minor": 4
}
