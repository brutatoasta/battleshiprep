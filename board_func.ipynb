{
 "metadata": {
  "language_info": {
   "codemirror_mode": {
    "name": "ipython",
    "version": 3
   },
   "file_extension": ".py",
   "mimetype": "text/x-python",
   "name": "python",
   "nbconvert_exporter": "python",
   "pygments_lexer": "ipython3",
   "version": "3.8.5-final"
  },
  "orig_nbformat": 2,
  "kernelspec": {
   "name": "python3",
   "display_name": "Python 3"
  }
 },
 "nbformat": 4,
 "nbformat_minor": 2,
 "cells": [
  {
   "cell_type": "code",
   "execution_count": 7,
   "metadata": {},
   "outputs": [
    {
     "output_type": "stream",
     "name": "stdout",
     "text": [
      " -  -  -  -  -  -  -  -  -  -  \n\n -  -  -  -  -  -  -  -  -  -  \n\n -  -  -  -  -  -  -  -  -  -  \n\n -  -  -  -  -  -  -  -  -  -  \n\n -  -  -  -  -  -  -  -  -  -  \n\n -  -  -  -  -  -  -  -  -  -  \n\n -  -  -  -  -  -  -  -  -  -  \n\n -  -  -  -  -  -  -  -  -  -  \n\n -  -  -  -  -  -  -  -  -  -  \n\n -  -  -  -  -  -  -  -  -  -  \n\n"
     ]
    }
   ],
   "source": [
    "Board_ls = [\" - \"*10]*10 \n",
    "prin\n",
    "for i in Board_ls:\n",
    "    print (i,\"\\n\")"
   ]
  },
  {
   "cell_type": "code",
   "execution_count": null,
   "metadata": {},
   "outputs": [],
   "source": []
  },
  {
   "cell_type": "code",
   "execution_count": null,
   "metadata": {},
   "outputs": [],
   "source": []
  }
 ]
}