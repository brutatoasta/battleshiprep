{
 "cells": [
  {
   "cell_type": "code",
   "execution_count": null,
   "metadata": {},
   "outputs": [],
   "source": [
    "class Point:\n",
    "    def __init__(self, initX, initY):\n",
    "        self.x = initX\n",
    "        self.y = initY"
   ]
  },
  {
   "cell_type": "code",
   "execution_count": null,
   "metadata": {},
   "outputs": [],
   "source": [
    "def attack():\n",
    "    shot_bool = False\n",
    "    my_turn_bool = True\n",
    "    while shot_bool == False:\n",
    "        shot_str = input(\"Attack coordinates? e.g. A0 \")\n",
    "        if check_valid_point(shot_str, \"Shot\"): #check if string is garbage\n",
    "            shot = Point(shot[0].upper(), shot[1]) #save the shot as Point object\n",
    "            if shot in shot_list:\n",
    "                print(\"You have taken this shot before! Choose another!\") \n",
    "                shot_bool = False\n",
    "            else:\n",
    "                print(\"Shooting...\")\n",
    "                #sleep(3)\n",
    "                shot_bool = True\n",
    "        else:\n",
    "            shot_bool = False\n",
    "   \n",
    "    if shot in enemy_all_ships_points_list:\n",
    "        print(\"Shot to {} was succesful!\".format(str(shot.x + shot.y)))\n",
    "        shot_list.append(shot)\n",
    "        #check if any enemy ships were sunk\n",
    "        #check if all enemy ships sunk\n",
    "    else:\n",
    "        print(\"You missed.\")\n",
    "        shot_list.append(shot)\n",
    "    myturn_bool = False"
   ]
  }
 ],
 "metadata": {
  "kernelspec": {
   "display_name": "Python 3",
   "language": "python",
   "name": "python3"
  },
  "language_info": {
   "codemirror_mode": {
    "name": "ipython",
    "version": 3
   },
   "file_extension": ".py",
   "mimetype": "text/x-python",
   "name": "python",
   "nbconvert_exporter": "python",
   "pygments_lexer": "ipython3",
   "version": "3.8.5"
  }
 },
 "nbformat": 4,
 "nbformat_minor": 4
}