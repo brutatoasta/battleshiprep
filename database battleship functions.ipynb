{
 "cells": [
  {
   "cell_type": "code",
   "execution_count": null,
   "metadata": {},
   "outputs": [],
   "source": [
    "# if player 2 has not joined, player 1 cannot start setting up his board.\n",
    "\"\"\"\n",
    "generates player 1 id and captures player 2 id. to create a list of player ids\n",
    "All id are used as keys for database dictionaries\n",
    "order of local ls_player_id matters but not that of database ls_player_id as\n",
    "database version is just to exchange player id\n",
    "\n",
    "\"\"\"\n",
    "def get_id(P1_name):\n",
    "    P1_id = generate_unique_id()\n",
    "    ls_player_id = db.child(\"Player_id\").get(user['idToken'])\n",
    "    \n",
    "    #if no players, player 1 joins the game and update the database\n",
    "    if (ls_player_id == None):\n",
    "        db.child(\"Player_id\").set([P1_id], user['idToken'])  \n",
    "    while len(ls_player_id) <=2 :\n",
    "        \n",
    "        #if player 1 is the only one in the game, wait for player 2 \n",
    "        if ls_player_id == [p1_id] :\n",
    "            print(\"Player 2 has not yet joined.\")\n",
    "            sleep(5)\n",
    "        #if player 1 is not in the game, but player 2 is, capture player 2 id,\n",
    "        #player 1 joins the game and update the database\n",
    "        elif len(ls_player_id) == 1 and ls_player_id != [P1_id]:\n",
    "            P2_id = ls_player_id[0]\n",
    "            ls_player_id = [P1_id, P2_id]\n",
    "            db.child(\"Player_id\").set(ls_player_id, user['idToken'])\n",
    "        #if both players are in the game, capture player 2 id\n",
    "        #no need to update the database\n",
    "        elif len(ls_player_id) == 2 and P1_id in ls_player_id:\n",
    "            ls_player_id.remove(P1_id)\n",
    "            P2_id = ls_player_id[0]\n",
    "            ls_player_id = [P1_id, P2_id]\n",
    "            break\n",
    "        else:\n",
    "            print(\"get_id() error\")\n",
    "            \n",
    "    return ls_player_id"
   ]
  },
  {
   "cell_type": "code",
   "execution_count": null,
   "metadata": {},
   "outputs": [],
   "source": [
    "def create_dict_player_name(P1_name, ls_player_id):\n",
    "    P1_id = ls_player_id[0]\n",
    "    P2_id = ls_player_id[1]\n",
    "    #query a dictionary from the key \"Player_name\"\n",
    "    dict_player_name = db.child(\"Player_name\").get(user['idToken'])\n",
    "    #if no names, write Player 1 name\n",
    "    if dict_player_name == None:\n",
    "        dict_player_name = {P1_id : P1_name}\n",
    "    while len(dict_player_name) <=2 :\n",
    "        \n",
    "        #if player 1 name is inside and player 2 name is not yet written,wait\n",
    "        if dict_player_name == {P1_id : P1_name} :\n",
    "            sleep(1)\n",
    "            continue\n",
    "        #if player 1 name is not inside, but player 2 is\n",
    "        #write player 1 name\n",
    "        elif len(dict_player_name) == 1 and dict_player_name != {P1_id : P1_name}:\n",
    "            P2_name = dict_player_name.get(P2_id)\n",
    "            dict_player_name = {P1_id : P1_name , P2_id : P2_name}\n",
    "            db.child(\"Player_name\").set(dict_player_name, user['idToken'])\n",
    "        #if both player name in dictionary, break the while loop\n",
    "        elif len(dict_player_name) == 2:\n",
    "            break\n",
    "        else:\n",
    "            print(\"create_dict_player_name() error\")\n",
    "            \n",
    "    #use player 2 id to get player 2 name\n",
    "    P2_name = dict_player_name.get(P2_id)\n",
    "    print(P1_name, \" is playing with \", P2_name)\n",
    "    #return nothing"
   ]
  },
  {
   "cell_type": "code",
   "execution_count": null,
   "metadata": {},
   "outputs": [],
   "source": []
  },
  {
   "cell_type": "code",
   "execution_count": null,
   "metadata": {},
   "outputs": [],
   "source": [
    "value = {\"eldest\":\"josh\", \"middle\":\"na\", \"youngest\": \"daniel\"}\n",
    "value2 = {\"middle\":\"na\", \"youngest\": \"daniel\", \"eldest\":\"josh\"}\n",
    "print(value == value2)\n",
    "#dictionaries are not ordered"
   ]
  },
  {
   "cell_type": "code",
   "execution_count": null,
   "metadata": {},
   "outputs": [],
   "source": []
  }
 ],
 "metadata": {
  "kernelspec": {
   "name": "python3",
   "display_name": "Python 3.8.5 64-bit",
   "metadata": {
    "interpreter": {
     "hash": "2db524e06e9f5f4ffedc911c917cb75e12dbc923643829bf417064a77eb14d37"
    }
   }
  },
  "language_info": {
   "codemirror_mode": {
    "name": "ipython",
    "version": 3
   },
   "file_extension": ".py",
   "mimetype": "text/x-python",
   "name": "python",
   "nbconvert_exporter": "python",
   "pygments_lexer": "ipython3",
   "version": "3.8.5-final"
  }
 },
 "nbformat": 4,
 "nbformat_minor": 4
}